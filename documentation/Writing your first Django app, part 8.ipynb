{
 "cells": [
  {
   "cell_type": "markdown",
   "id": "4198b200",
   "metadata": {},
   "source": [
    "## Instalación de la barra de herramientas de depuración de Django\n",
    "\n",
    "Django Debug Toolbar es una herramienta útil para depurar aplicaciones web Django. Es un paquete de terceros mantenido por la organización Jazzband. La barra de herramientas le ayuda a comprender cómo funciona su aplicación y a identificar problemas. Lo hace proporcionando paneles que brindan información de depuración sobre la solicitud y respuesta actuales.\n",
    "\n",
    "Para instalar una aplicación de terceros como la barra de herramientas, debe instalar el paquete ejecutando el siguiente comando dentro de un entorno virtual activado. Esto es similar a nuestro paso anterior para instalar Django."
   ]
  },
  {
   "cell_type": "raw",
   "id": "ce779847",
   "metadata": {},
   "source": [
    "$ python -m pip install django-debug-toolbar"
   ]
  },
  {
   "cell_type": "markdown",
   "id": "30a0ad11",
   "metadata": {},
   "source": [
    "Los paquetes de terceros que se integran con Django necesitan alguna configuración posterior a la instalación para integrarlos con su proyecto. A menudo necesitarás agregar la aplicación Django del paquete a tu configuración INSTALLED_APPS. Algunos paquetes necesitan otros cambios, como adiciones a su URLconf (urls.py).\n",
    "\n",
    "La barra de herramientas Django Debug requiere varios pasos de configuración. Síguelos en su guía de instalación. Los pasos no están duplicados en este tutorial porque, como paquete de terceros, puede cambiar por separado según la programación de Django.\n",
    "\n",
    "Una vez instalado, debería poder ver el «identificador» de DjDT en el lado derecho de la ventana del navegador cuando actualice la aplicación de encuestas. Haga clic en él para abrir la barra de herramientas de depuración y utilizar las herramientas de cada panel. Consulte la página de documentación de los paneles para obtener más información sobre lo que muestran los paneles.\n",
    "### Obtener ayuda de otros\n",
    "\n",
    "En algún momento te encontrarás con un problema, por ejemplo, es posible que la barra de herramientas no se muestre. Cuando esto sucede y no puede resolver el problema usted mismo, hay opciones disponibles para usted.\n",
    "\n",
    "     Si el problema es con un paquete específico, verifique si hay preguntas frecuentes sobre solución de problemas en la documentación del paquete. Por ejemplo, la barra de herramientas de depuración de Django tiene una sección de sugerencias que describe las opciones de solución de problemas.\n",
    "     Busque problemas similares en el rastreador de problemas del paquete. La barra de herramientas de depuración de Django está en GitHub.\n",
    "     Consulta el foro de Django.\n",
    "     Únase al servidor Django Discord.\n",
    "     Únase al canal IRC #Django en Libera.chat.\n",
    "\n",
    "### Instalar otros paquetes de terceros\n",
    "\n",
    "Hay muchos más paquetes de terceros, que puedes encontrar utilizando el fantástico recurso de Django, Django Packages.\n",
    "\n",
    "Puede resultar difícil saber qué paquetes de terceros debe utilizar. Esto depende de tus necesidades y objetivos. A veces está bien utilizar un paquete que está en estado alfa. Otras veces, necesita saber que está listo para producción. Adam Johnson tiene una publicación en su blog que describe un conjunto de características que califican un paquete como \"bien mantenido\". Django Packages muestra datos para algunas de estas características, como cuándo se actualizó el paquete por última vez.\n",
    "\n",
    "Como señala Adam en su publicación, cuando la respuesta a una de las preguntas es «no», es una oportunidad para contribuir."
   ]
  }
 ],
 "metadata": {
  "kernelspec": {
   "display_name": "Python 3 (ipykernel)",
   "language": "python",
   "name": "python3"
  },
  "language_info": {
   "codemirror_mode": {
    "name": "ipython",
    "version": 3
   },
   "file_extension": ".py",
   "mimetype": "text/x-python",
   "name": "python",
   "nbconvert_exporter": "python",
   "pygments_lexer": "ipython3",
   "version": "3.11.7"
  }
 },
 "nbformat": 4,
 "nbformat_minor": 5
}
