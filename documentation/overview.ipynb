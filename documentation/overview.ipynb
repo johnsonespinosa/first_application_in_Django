{
 "cells": [
  {
   "cell_type": "markdown",
   "id": "41324642",
   "metadata": {},
   "source": [
    "# Django de un vistazo¶\n",
    "\n",
    "Debido a que Django fue desarrollado en un entorno de sala de redacción de ritmo rápido, fue diseñado para hacer que las tareas comunes de desarrollo web sean rápidas y fáciles. Aquí hay una descripción informal de cómo escribir una aplicación web impulsada por una base de datos con Django.\n",
    "\n",
    "El objetivo de este documento es darle suficiente información técnica para entender cómo funciona Django, pero no pretende ser un tutorial o referencia - ¡Aunque tenemos ambas cosas! Cuando esté listo para empezar un proyecto con Django, puede comenzar con el tutorial https://docs.djangoproject.com/es/5.0/intro/tutorial01/ o ir directamente a la documentación más detallada.\n",
    "\n",
    "## Diseñe su modelo\n",
    "\n",
    "Aunque es posible usar Django sin una base de datos, Django cuenta con un mapeador objeto-relacional en el que es posible definir la estructura de la base de datos utilizando código Python.\n",
    "\n",
    "La sintaxis de modelo de datos ofrece muchas formas de representar sus modelos – hasta ahora, ha resuelto una cantidad equivalente a años de problemas de esquemas de base de datos. Aquí hay un ejemplo rápido:"
   ]
  },
  {
   "cell_type": "code",
   "execution_count": null,
   "id": "06d8e436",
   "metadata": {},
   "outputs": [],
   "source": [
    "# project/app/models.py\n",
    "\n",
    "from django.db import models\n",
    "\n",
    "\n",
    "class Reporter(models.Model):\n",
    "    full_name = models.CharField(max_length=70)\n",
    "\n",
    "    def __str__(self):\n",
    "        return self.full_name\n",
    "\n",
    "\n",
    "class Article(models.Model):\n",
    "    pub_date = models.DateField()\n",
    "    headline = models.CharField(max_length=200)\n",
    "    content = models.TextField()\n",
    "    reporter = models.ForeignKey(Reporter, on_delete=models.CASCADE)\n",
    "\n",
    "    def __str__(self):\n",
    "        return self.headline\n",
    "\n"
   ]
  },
  {
   "cell_type": "markdown",
   "id": "cdfdef9d",
   "metadata": {},
   "source": [
    "### Instálelo\n",
    "\n",
    "A continuación, ejecute las utilidades de línea de comandos de Django para crear automáticamente las tablas de la base de datos."
   ]
  },
  {
   "cell_type": "markdown",
   "id": "177d81f5",
   "metadata": {},
   "source": [
    "$ python manage.py makemigrations\n",
    "\n",
    "$ python manage.py migrate"
   ]
  },
  {
   "cell_type": "markdown",
   "id": "c17d73e7",
   "metadata": {},
   "source": [
    "El comando makemigrations examina todos los modelos disponibles y crea migraciones para las tablas que aún no existen. migrate ejecuta las migraciones y crea tablas en su base de datos, además de proporcionar opcionalmente un control de esquema mucho más completo."
   ]
  },
  {
   "cell_type": "markdown",
   "id": "4b6e038c",
   "metadata": {},
   "source": [
    "### Una interfaz administrativa dinámica: no es sólo andamios; es toda una casa¶\n",
    "\n",
    "Una vez que sus modelos están definidos, Django puede crear automáticamente una interfaz administrativa profesional y lista para producción: un sitio web que permite a los usuarios autenticados agregar, cambiar y eliminar objetos. El único paso requerido es registrar su modelo en el sitio de administración:"
   ]
  },
  {
   "cell_type": "code",
   "execution_count": null,
   "id": "4a2350e4",
   "metadata": {},
   "outputs": [],
   "source": [
    "from django.db import models\n",
    "\n",
    "\n",
    "class Article(models.Model):\n",
    "    pub_date = models.DateField()\n",
    "    headline = models.CharField(max_length=200)\n",
    "    content = models.TextField()\n",
    "    reporter = models.ForeignKey(Reporter, on_delete=models.CASCADE)"
   ]
  },
  {
   "cell_type": "code",
   "execution_count": null,
   "id": "4a666851",
   "metadata": {},
   "outputs": [],
   "source": [
    "from django.contrib import admin\n",
    "\n",
    "from . import models\n",
    "\n",
    "admin.site.register(models.Article)"
   ]
  },
  {
   "cell_type": "markdown",
   "id": "3494b1e9",
   "metadata": {},
   "source": [
    "La filosofía aquí es que su sitio es editado por un personal, o un cliente, o tal vez solo usted, y no quiere tener que lidiar con la creación de interfaces de backend solo para administrar el contenido.\n",
    "\n",
    "Un flujo de trabajo típico en la creación de aplicaciones Django es crear modelos y poner a funcionar los sitios administrativos lo más rápido posible para que su personal (o clientes) puedan empezar a ingresar los datos y luego, perfeccionar la forma como los datos se presentan al público.\n",
    "## Diseñe sus URLs\n",
    "\n",
    "Un esquema de URL limpio y elegante es un detalle importante en una aplicación web de alta calidad. Django fomenta un diseño de URL hermoso y no añade ningún elemento innecesario en las URLs, como .php o .asp.\n",
    "\n",
    "Para diseñar las URLs de una aplicación, debe crear un módulo de Python llamado URLconf. Esta es una tabla de contenidos para su aplicación con un un mapeo sencillo entre patrones URLs y funciones callback de Python. Las tablas URLconf también sirven para separar las URLs del código Python.\n",
    "\n",
    "Así es como se vería una URLconf para el ejemplo Reporter/Article anterior:"
   ]
  },
  {
   "cell_type": "code",
   "execution_count": null,
   "id": "bf41f5da",
   "metadata": {},
   "outputs": [],
   "source": [
    "# priject/app/urls.py¶\n",
    "\n",
    "from django.urls import path\n",
    "\n",
    "from . import views\n",
    "\n",
    "urlpatterns = [\n",
    "    path(\"articles/<int:year>/\", views.year_archive),\n",
    "    path(\"articles/<int:year>/<int:month>/\", views.month_archive),\n",
    "    path(\"articles/<int:year>/<int:month>/<int:pk>/\", views.article_detail),\n",
    "]\n",
    "\n"
   ]
  },
  {
   "cell_type": "markdown",
   "id": "5e7c379a",
   "metadata": {},
   "source": [
    "El código anterior mapea las URLs a funciones callback de Python («vistas»). Las cadena de caracteres de la ruta usa etiquetas para «capturar» los valores de las URLs. Cuando un usuario solicita una página Django pasa por cada patrón en orden y se detiene en el primero que coincide con la URL solicitada. (Si ninguno de ellos coincide Django llama una vista del caso especial 404). Esto es increíblemente rápido debido a que las rutas son compiladas como expresiones regulares en tiempo de carga.\n",
    "\n",
    "Una vez que una de las expresiones regulares coincide, Django llama a la vista determinada, que es una función Python. Cada vista recibe un objeto de consulta – que contiene metadatos de consulta – y los valores capturados en la expresión regular.\n",
    "\n",
    "Por ejemplo si un usuario solicitara la dirección URL «/articles/2005/05/39323/» Django llamaría la función app.views.article_detail(request, year=2005, month=05, pk=39323).\n",
    "## Escriba sus vistas\n",
    "\n",
    "Cada vista es responsable de hacer una de dos cosas: retornar un objeto HttpResponse que incluye el contenido de la página solicitada, o levantar una excepción como Http404. El resto depende de usted.\n",
    "\n",
    "Generalmente, una vista recupera los datos de acuerdo con los parámetros, carga una plantilla y crea la plantilla con los datos recuperados. Aquí está una vista de ejemplo para el year_archive de arriba:"
   ]
  },
  {
   "cell_type": "code",
   "execution_count": null,
   "id": "43f04a1e",
   "metadata": {},
   "outputs": [],
   "source": [
    "# project/app/views.py¶\n",
    "\n",
    "from django.shortcuts import render\n",
    "\n",
    "from .models import Article\n",
    "\n",
    "\n",
    "def year_archive(request, year):\n",
    "    a_list = Article.objects.filter(pub_date__year=year)\n",
    "    context = {\"year\": year, \"article_list\": a_list}\n",
    "    return render(request, \"news/year_archive.html\", context)\n",
    "\n"
   ]
  },
  {
   "cell_type": "markdown",
   "id": "a91221ba",
   "metadata": {},
   "source": [
    "Este ejemplo utiliza el sistema de plantillas de Django que tiene varias características potentes, pero se esfuerza por mantenerse lo suficientemente simple como para que los que no son programadores lo puedan utilizar.\n",
    "## Diseñe sus plantillas\n",
    "\n",
    "El código anterior carga la plantilla year_archive.html.\n",
    "\n",
    "Django tiene una ruta de búsqueda de plantillas lo que le permite a usted minimizar la redundancia entre las plantillas. En su configuración de Django, usted especifica una lista de directorios para verificar si hay plantillas con DIRS. Si una plantilla no existe en el primer directorio, verifica en el segundo y así sucesivamente.\n",
    "\n",
    "Digamos que se encontró la plantilla year_archive.html. Así es como podría verse:"
   ]
  },
  {
   "cell_type": "code",
   "execution_count": null,
   "id": "35776c69",
   "metadata": {},
   "outputs": [],
   "source": [
    "# project/app/templates/year_archive.html\n",
    "\n",
    "{% extends \"base.html\" %}\n",
    "\n",
    "{% block title %}Articles for {{ year }}{% endblock %}\n",
    "\n",
    "{% block content %}\n",
    "<h1>Articles for {{ year }}</h1>\n",
    "\n",
    "{% for article in article_list %}\n",
    "    <p>{{ article.headline }}</p>\n",
    "    <p>By {{ article.reporter.full_name }}</p>\n",
    "    <p>Published {{ article.pub_date|date:\"F j, Y\" }}</p>\n",
    "{% endfor %}\n",
    "{% endblock %}\n",
    "\n"
   ]
  },
  {
   "cell_type": "markdown",
   "id": "52e70862",
   "metadata": {},
   "source": [
    "Las variables están rodeadas por llaves dobles. {{ article.headline }} significa «Enviar el valor del atributo headline del artículo». Sin embargo, los puntos no sólo se utilizan para las operaciones de búsqueda de atributo. También pueden hacer búsqueda de pares diccionario-clave, búsqueda de índice y llamadas a funciones.\n",
    "\n",
    "Tenga en cuenta que {{ article.pub_date|date:\"F j, Y\" }} utiliza una «tubería» al estilo Unix (el carácter «|»). Esto se conoce como filtro de plantilla, y es una manera de filtrar el valor de una variable. En este caso, el filtro de fecha formatea un objeto datetime de Python en el formato determinado (como se encuentra en la función de fecha de PHP).\n",
    "\n",
    "Usted puede encadenar tantos filtros como desee. Usted puede escribir filtros de plantillas personalizados https://docs.djangoproject.com/es/5.0/howto/custom-template-tags/#howto-writing-custom-template-filters. Usted puede escribir etiquetas de plantillas personalizadas https://docs.djangoproject.com/es/5.0/howto/custom-template-tags/ que ejecutan el código Python personalizado tras bastidores.\n",
    "\n",
    "Por último, Django usa el concepto de «herencia de plantillas». Eso es lo que hace el {% extends \"base.html\"%}. Esto quiere decir «Primero cargue la plantilla llamada “base”, que ha definido un grupo de bloques, y llene los bloques con los siguientes bloques.» En resumen, eso le permite reducir drásticamente la redundancia en las plantillas: cada plantilla tiene que definir sólo lo que es exclusivo de esa plantilla.\n",
    "\n",
    "Aquí esta como la plantilla «base.html», incluyendo el uso de static files https://docs.djangoproject.com/es/5.0/howto/static-files/, podría verse:"
   ]
  },
  {
   "cell_type": "code",
   "execution_count": null,
   "id": "af6fd5ea",
   "metadata": {},
   "outputs": [],
   "source": [
    "# BASE_DIR/templates/base.html\n",
    "\n",
    "{% load static %}\n",
    "<html>\n",
    "<head>\n",
    "    <title>{% block title %}{% endblock %}</title>\n",
    "</head>\n",
    "<body>\n",
    "    <img src=\"{% static 'images/sitelogo.png' %}\" alt=\"Logo\">\n",
    "    {% block content %}{% endblock %}\n",
    "</body>\n",
    "</html>\n",
    "\n"
   ]
  },
  {
   "cell_type": "markdown",
   "id": "3f5c4c05",
   "metadata": {},
   "source": [
    "De forma simple, define el aspecto del sitio (con el logo del sitio) y proporciona «agujeros» a ser llenados por las plantillas hijas. Esto hace que el rediseño del sitio resulte tan fácil como cambiar un solo archivo: la plantilla base.\n",
    "\n",
    "También le permite crear múltiples versiones de un sitio, con diferentes plantillas bases, a la vez que reutiliza las plantillas hijas. Los creadores de Django han usado esta técnica para crear versiones móviles de sitios sorprendentemente distintas, simplemente creando una nueva plantilla base.\n",
    "\n",
    "Tenga en cuenta que usted no tiene que usar el sistema de plantillas de Django si prefiere otro sistema. Si bien el sistema de plantillas de Django está particularmente bien integrado con la capa modelo de Django, nada lo obliga a usarlo. No tiene tampoco que usar la API de base de datos de Django. Puede usar otra capa de abstracción de base de datos, leer archivos XML, leer archivos desde el disco o lo que desee. Cada parte de Django – modelos, vistas, plantillas – está separada de la otra."
   ]
  },
  {
   "cell_type": "markdown",
   "id": "eea8c4ba",
   "metadata": {},
   "source": [
    "## Esto es sólo la superficie¶\n",
    "\n",
    "Esta ha sido solamente una rápida introducción a la funcionalidad de Django. Otras características útiles:\n",
    "\n",
    "    - Un framework de caché que se integra con memcached u otros backends https://docs.djangoproject.com/es/5.0/topics/cache/.\n",
    "    \n",
    "    - Un framework de sindicación que hace que la creación de feeds RSS y Atom sea tan fácil como escribir una pequeña clase de Python https://docs.djangoproject.com/es/5.0/ref/contrib/syndication/.\n",
    "    \n",
    "    - Funciones administrativas del sitio, más atractivas y generadas automáticamente – esta descripción general apenas toca la superficie."
   ]
  },
  {
   "cell_type": "code",
   "execution_count": null,
   "id": "0ef114f5",
   "metadata": {},
   "outputs": [],
   "source": []
  }
 ],
 "metadata": {
  "kernelspec": {
   "display_name": "Python 3 (ipykernel)",
   "language": "python",
   "name": "python3"
  },
  "language_info": {
   "codemirror_mode": {
    "name": "ipython",
    "version": 3
   },
   "file_extension": ".py",
   "mimetype": "text/x-python",
   "name": "python",
   "nbconvert_exporter": "python",
   "pygments_lexer": "ipython3",
   "version": "3.11.7"
  }
 },
 "nbformat": 4,
 "nbformat_minor": 5
}
