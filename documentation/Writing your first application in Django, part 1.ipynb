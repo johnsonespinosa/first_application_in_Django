{
 "cells": [
  {
   "cell_type": "markdown",
   "id": "394ee0c9",
   "metadata": {},
   "source": [
    "# Creando un proyecto\n",
    "\n",
    "Si esta es la primera vez que utiliza Django, tendrá que hacerse cargo de ciertas configuraciones iniciales. Concretamente, tendrá que autogenerar un código que establezca un Django project – un conjunto de ajustes para una instancia de Django, incluida la configuración de la base de datos, opciones específicas de Django y configuraciones específicas de la aplicación.\n",
    "\n",
    "Desde la línea de comandos, cambie a un directorio donde le gustaría almacenar su código, luego, ejecute el siguiente comando:\n",
    "\n",
    "$ django-admin startproject mysite\n",
    "\n",
    "Esto creará un directorio mysite en su directorio actual. Si no funcionó, consulte Problemas ejecutando django-admin."
   ]
  },
  {
   "cell_type": "markdown",
   "id": "d081b90f",
   "metadata": {},
   "source": [
    "## Nota\n",
    "\n",
    "Tendrá que evitar darle nombres a sus proyectos que sean iguales a los de otros componentes integrados de Python o Django. En particular, esto quiere decir que debe evitar usar nombres como django (que entrará en conflicto con Django mismo) o test (que entrará en conflicto con un paquete interno de Python).\n"
   ]
  },
  {
   "cell_type": "markdown",
   "id": "76009100",
   "metadata": {},
   "source": [
    "### ¿Dónde debería estar este código?\n",
    "\n",
    "Si su experiencia es en PHP antiguo (sin uso de marcos modernos), probablemente esté acostumbrado a colocar código en la raíz de documentos del servidor web (en un lugar como /var/www). Con Django, no haces eso. No es una buena idea colocar nada de este código Python en la raíz de documentos de su servidor web, porque corre el riesgo de que las personas puedan ver su código a través de la web. Eso no es bueno para la seguridad.\n",
    "\n",
    "Introduzca su código en algún directorio fuera del elemento raíz del documento, como por ejemplo /home/mycode."
   ]
  },
  {
   "cell_type": "markdown",
   "id": "27ff0e4d",
   "metadata": {},
   "source": [
    "Veamos qué creó startproject:\n",
    "\n",
    "    mysite/\n",
    "    manage.py\n",
    "    mysite/\n",
    "        __init__.py\n",
    "        settings.py\n",
    "        urls.py\n",
    "        asgi.py\n",
    "        wsgi.py"
   ]
  },
  {
   "cell_type": "markdown",
   "id": "1407f934",
   "metadata": {},
   "source": [
    "Estos archivos son:\n",
    "\n",
    "    - El directorio externo mysite/root es un contenedor para su proyecto. Su nombre no le importa a Django; puedes cambiarle el nombre al que quieras.\n",
    "    \n",
    "    - manage.py: Una utilidad de la línea de comandos que le permite interactuar con este proyecto Django de diferentes formas.\n",
    "    \n",
    "    - En el interior del directorio mysite/ es el propio paquete de Python para su proyecto. Su nombre es el nombre del paquete de Python que usted tendrá que utilizar para importar todo dentro de este (por ejemplo, mysite.urls).\n",
    "    \n",
    "    - mysite/__init__.py: Un archivo vacío que le indica a Python que este directorio debería considerarse como un paquete Python. Si usted es un principiante lea más sobre los paquetes en la documentación oficial de Python https://docs.python.org/3/tutorial/modules.html#tut-packages.\n",
    "    \n",
    "    - mysite/settings.py: Ajustes/configuración para este proyecto Django. Django settings le indicará todo sobre cómo funciona la configuración https://docs.djangoproject.com/es/5.0/topics/settings/.\n",
    "    \n",
    "    - mysite/urls.py: URL de las declaraciones para este proyecto Django; una «tabla de contenidos» de su sitio basado en Django. Puede leer más sobre las URL en Despachador de URL https://docs.djangoproject.com/es/5.0/topics/http/urls/.\n",
    "    \n",
    "    - mysite/asgi.py: un punto de entrada para que los servidores web compatibles con ASGI sirvan a su proyecto. Consulte Cómo implementar con ASGI para obtener más detalles https://docs.djangoproject.com/es/5.0/howto/deployment/asgi/.\n",
    "    \n",
    "    - mysite/wsgi.py: Un punto de entrada para que los servidores web compatibles con WSGI puedan servir su proyecto. Consulte :doc:`/howto/deployment/wsgi/index`para más detalles."
   ]
  },
  {
   "cell_type": "markdown",
   "id": "426062ff",
   "metadata": {},
   "source": [
    "## El servidor de desarrollo\n",
    "\n",
    "Comprobemos que su proyecto Django funciona. Cambie al directorio externo mysite, si todavía no lo ha hecho, y ejecute los siguientes comandos:"
   ]
  },
  {
   "cell_type": "markdown",
   "id": "59f8ba19",
   "metadata": {},
   "source": [
    "$ python manage.py runserver"
   ]
  },
  {
   "cell_type": "markdown",
   "id": "b9bad586",
   "metadata": {},
   "source": [
    "Verá la siguiente salida en la línea de comandos:\n",
    "\n",
    "Performing system checks...\n",
    "\n",
    "System check identified no issues (0 silenced).\n",
    "\n",
    "You have unapplied migrations; your app may not work properly until they are applied.\n",
    "Run 'python manage.py migrate' to apply them.\n",
    "\n",
    "abril 19, 2024 - 15:50:53\n",
    "Django version 5.0, using settings 'mysite.settings'\n",
    "Starting development server at http://127.0.0.1:8000/\n",
    "Quit the server with CONTROL-C.\n",
    "\n",
    "\n",
    "### Nota\n",
    "\n",
    "Ignore por ahora la advertencia sobre las migraciones de bases de datos sin aplicar, nos ocuparemos de la base de datos dentro de poco.\n",
    "\n",
    "Ha iniciado el servidor de desarrollo Django, un servidor web liviano escrito exclusivamente en Python. Hemos incluido esto con Django para que puedas desarrollar cosas rápidamente, sin tener que lidiar con la configuración de un servidor de producción, como Apache, hasta que estés listo para la producción.\n",
    "\n",
    "Ahora es un buen momento para tomar nota: no utilice este servidor en nada que se parezca a un entorno de producción. Está destinado únicamente para su uso durante el desarrollo. (Estamos en el negocio de crear marcos web, no servidores web).\n",
    "\n",
    "Ahora que el servidor se está ejecutando, visite http://127.0.0.1:8000/ con su navegador web. Verás un mensaje de «¡Felicitaciones!» página, con un cohete despegando. ¡Funcionó!\n",
    "\n",
    "### Cambiando el puerto\n",
    "\n",
    "De forma predeterminada, el comando runserver inicia el servidor de desarrollo en la IP interna en el puerto 8000.\n",
    "\n",
    "Si desea cambiar el puerto del servidor, pásalo como un argumento de la línea de comandos. Por ejemplo, este comando inicia el servidor en el puerto 8080:\n",
    "\n",
    "$ python manage.py runserver 8080\n",
    "\n",
    "Si desea cambiar la IP del servidor, pásela junto con el puerto. Por ejemplo para escuchar en todas las IPs públicas (útil si usted está ejecutando Vagrant o quiere mostrar su trabajo en otros equipos de la red), utilice:\n",
    "\n",
    "$ python manage.py runserver 0.0.0.0:8000\n",
    "\n",
    "Se pueden encontrar documentos completos para el servidor de desarrollo en la referencia del : djadmin: ` runserver`.\n",
    "\n",
    "### Recarga automática del comando runserver\n",
    "\n",
    "El servidor de desarrollo recarga de forma automática el código Python para cada petición cuando sea necesario. No es necesario reiniciar el servidor para que los cambios de código surtan efecto. Sin embargo, algunas acciones como la adición de archivos no provoca un reinicio, por lo que tendrá que reiniciar el servidor en estos casos.\n",
    "Creando la aplicación encuestas\n",
    "\n",
    "Ahora que su entorno (un «proyecto») se ha configurado, ya está listo para empezar a trabajar.\n",
    "\n",
    "Cada aplicación que usted escribe en Django consiste en un paquete de Python que sigue una determinada convención. Django tiene una utilidad que genera automáticamente la estructura básica de directorios de una aplicación, por lo que usted puede centrarse en la escritura de código en lugar de crear directorios.\n",
    "\n",
    "### Proyectos vs. aplicaciones\n",
    "\n",
    "¿Cuál es la diferencia entre un proyecto y una aplicación? Una aplicación es una aplicación web que hace algo (por ejemplo, un sistema de blog, una base de datos de registros públicos o una pequeña aplicación de encuesta). Un proyecto es una colección de configuraciones y aplicaciones para un sitio web en particular. Un proyecto puede contener varias aplicaciones. Una aplicación puede estar en varios proyectos.\n",
    "\n",
    "Sus aplicaciones pueden vivir en cualquier lugar de su ruta Python. En este tutorial, crearemos nuestra aplicación de encuesta en el mismo directorio que su archivo Manage.py para que pueda importarse como su propio módulo de nivel superior, en lugar de un submódulo de mysite.\n",
    "\n",
    "Para crear su aplicación, asegúrese de que está en el mismo directorio que el archivo manage.py y escriba este comando:\n",
    "\n",
    "$ python manage.py startapp polls\n",
    "\n",
    "Eso creará un directorio de encuestas, que se presenta así:\n"
   ]
  },
  {
   "cell_type": "markdown",
   "id": "12dcb109",
   "metadata": {},
   "source": [
    "    polls/\n",
    "        __init__.py\n",
    "        admin.py\n",
    "        apps.py\n",
    "        migrations/\n",
    "            __init__.py\n",
    "        models.py\n",
    "        tests.py\n",
    "        views.py"
   ]
  },
  {
   "cell_type": "markdown",
   "id": "4421ef77",
   "metadata": {},
   "source": [
    "Esta estructura de directorios almacenará la aplicación encuesta.\n",
    "Escriba su primera vista\n",
    "\n",
    "Vamos a escribir la primera vista. Abra el archivo polls/views.py y ponga el siguiente código Python en ella:"
   ]
  },
  {
   "cell_type": "code",
   "execution_count": null,
   "id": "e98b59c6",
   "metadata": {},
   "outputs": [],
   "source": [
    "# polls/views.py¶\n",
    "\n",
    "from django.http import HttpResponse\n",
    "\n",
    "\n",
    "def index(request):\n",
    "    return HttpResponse(\"Hello, world. You're at the polls index.\")"
   ]
  },
  {
   "cell_type": "markdown",
   "id": "d89c7481",
   "metadata": {},
   "source": [
    "Esta es la vista más simple posible en Django. Para llamar la vista, tenemos que asignarla a una URL y para ello necesitamos una URLconf.\n",
    "\n",
    "Para crear un URLconf en el directorio polls, crea un archivo urls.py. El directorio de la aplicación ahora debía tener este aspecto:"
   ]
  },
  {
   "cell_type": "markdown",
   "id": "3fe6584b",
   "metadata": {},
   "source": [
    "    polls/\n",
    "        __init__.py\n",
    "        admin.py\n",
    "        apps.py\n",
    "        migrations/\n",
    "            __init__.py\n",
    "        models.py\n",
    "        tests.py\n",
    "        urls.py\n",
    "        views.py"
   ]
  },
  {
   "cell_type": "markdown",
   "id": "8049a3e1",
   "metadata": {},
   "source": [
    "Incluya el siguiente código en el archivo polls/urls.py:"
   ]
  },
  {
   "cell_type": "code",
   "execution_count": null,
   "id": "794f98ef",
   "metadata": {},
   "outputs": [],
   "source": [
    "# polls/urls.py\n",
    "\n",
    "from django.urls import path\n",
    "\n",
    "from . import views\n",
    "\n",
    "urlpatterns = [\n",
    "    path(\"\", views.index, name=\"index\"),\n",
    "]"
   ]
  },
  {
   "cell_type": "markdown",
   "id": "f3dc0062",
   "metadata": {},
   "source": [
    "El siguiente paso es señalar la URLconf raíz en el módulo polls.urls. En mysite/urls.py añada un import para django.urls.include e inserte una include() en la lista urlpatterns , para obtener:"
   ]
  },
  {
   "cell_type": "code",
   "execution_count": null,
   "id": "09dc66be",
   "metadata": {},
   "outputs": [],
   "source": [
    "# mysite/urls.py\n",
    "\n",
    "from django.contrib import admin\n",
    "from django.urls import include, path\n",
    "\n",
    "urlpatterns = [\n",
    "    path(\"polls/\", include(\"polls.urls\")),\n",
    "    path(\"admin/\", admin.site.urls),\n",
    "]"
   ]
  },
  {
   "cell_type": "markdown",
   "id": "896c10e8",
   "metadata": {},
   "source": [
    "La función include() permite hacer referencia a otros URLconfs. Cada vez que Django encuentra include() corta cualquier parte de la URL que coincide hasta ese punto y envía la cadena restante a la URLconf incluida para seguir el proceso.\n",
    "\n",
    "La idea detrás de include() es facilitar la conexión y ejecución inmediata de las URLs. Dado que las encuestas están en su propia URLconf (polls/urls.py) se pueden ubicar en «/polls/», «/fun_polls /», «/content/polls/» o en cualquier otra ruta raíz , y la aplicación todavía seguirá funcionando."
   ]
  },
  {
   "cell_type": "markdown",
   "id": "c5479471",
   "metadata": {},
   "source": [
    "### Cuándo utilizar include()\n",
    "\n",
    "Siempre debe usar include() cuando incluye otros patrones de URL. admin.site.urls es la única excepción a esto.\n",
    "\n",
    "Ahora tiene una vista index vinculada en los URLconf. Compruebe su funcionamiento con el siguiente comando:\n",
    "\n",
    "$ python manage.py runserver\n",
    "\n",
    "Vaya a http://localhost:8000/polls/ en su navegador, y usted debería ver el texto «Hello, world. You’re at the polls index.» el cual definió en la vista index."
   ]
  },
  {
   "cell_type": "markdown",
   "id": "2e494bc1",
   "metadata": {},
   "source": [
    "### ¿Página no encotrada?\n",
    "\n",
    "Si usted obtiene aquí una página de error, revisee que usted este llendo a la dirección URL http://localhost:8000/polls/ y no a la dirección URL http://localhost:8000/.\n",
    "\n",
    "La path() función recibe cuatro argumentos, dos requeridos route y view; y dos opcionales kwargs y name. Este es el momento de revisar para que sirven estos argumentos.\n",
    "argumento path(): route\n",
    "\n",
    "route es una cadena que contiene un patrón de URL. Cuando Django procesa una petición comienza por el primer patrón en urlpatterns y continua hacia abajo por la lista comparando la URL solicitada con cada patrón hasta encontrar aquel que calza.\n",
    "\n",
    "Tenga en cuenta que estas expresiones regulares no buscan parámetros GET y POST o el nombre de dominio. Por ejemplo en una petición a la dirección URL https://www.example.com/myapp/, la URLconf buscará myapp/. En una petición a https://www.example.com/myapp/?page=3 la URLconf también buscará myapp/.\n",
    "argumento path(): view\n",
    "\n",
    "Cuando Django encuentra una coincidencia de expresiones regulares llama a la función de la vista especificada con un objeto HttpRequest como primer argumento y cualquiera de los valores «capturados» de la ruta como argumentos de palabra clave. Le daremos un ejemplo de esto en un momento.\n",
    "argumento path(): kwargs\n",
    "\n",
    "Los argumentos arbitrarios de palabra clave se pueden pasar en un diccionario a la vista destino. No vamos a utilizar esta funcionalidad de Django en el tutorial.\n",
    "argumento path(): name\n",
    "\n",
    "Dar un nombre a su URL le permite referirse a ella de forma inequívoca desde otras partes de Django sobre todo desde las plantillas. Esta potente característica le permite realizar cambios globales en los patrones de URL de su proyecto modificando solo un único archivo.\n",
    "\n",
    "Cuando se familiarice con el flujo básico de solicitud y respuesta, lea la parte 2 del presente tutorial para empezar a trabajar con la base de datos."
   ]
  }
 ],
 "metadata": {
  "kernelspec": {
   "display_name": "Python 3 (ipykernel)",
   "language": "python",
   "name": "python3"
  },
  "language_info": {
   "codemirror_mode": {
    "name": "ipython",
    "version": 3
   },
   "file_extension": ".py",
   "mimetype": "text/x-python",
   "name": "python",
   "nbconvert_exporter": "python",
   "pygments_lexer": "ipython3",
   "version": "3.11.7"
  }
 },
 "nbformat": 4,
 "nbformat_minor": 5
}
