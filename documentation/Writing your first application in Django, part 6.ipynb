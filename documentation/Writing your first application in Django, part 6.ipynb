{
 "cells": [
  {
   "cell_type": "markdown",
   "id": "389b9745",
   "metadata": {},
   "source": [
    "## Personalice la apariencia de su aplicación\n",
    "\n",
    "En primer lugar, cree un directorio llamado static en su directorio polls. Django buscará archivos estáticos allí, del mismo modo cómo Django encuentra las plantillas dentro de polls/templates/.\n",
    "\n",
    "La opción STATICFILES_FINDERS de Django contiene una lista de buscadores que saben cómo hallar archivos estáticos de diversas fuentes. Uno de los predeterminados es AppDirectoriesFinder que busca un subdirectorio «static» en cada una de las INSTALLED_APPS, como el que está en polls que acabamos de crear. El sitio administrativo utiliza la misma estructura de directorios para sus archivos estáticos.\n",
    "\n",
    "Dentro del directorio estático que acaba de crear, cree otro directorio llamado polls y dentro de él cree un archivo llamado style.css. En otras palabras, su hoja de estilo debe estar en polls/static/polls/style.css. Debido a cómo funciona el buscador de archivos estáticos de AppDirectoriesFinder, puede hacer referencia a este archivo estático en Django como polls/style.css, de forma similar a cómo hace referencia a la ruta de las plantillas.\n",
    "\n",
    "### Espacio de nombres de archivo estático\n",
    "\n",
    "Al igual que las plantillas, podríamos salirnos con la nuestra colocando nuestros archivos estáticos directamente en polls/static (en lugar de crear otro subdirectorio polls), pero en realidad sería una mala idea. Django elegirá el primer archivo estático que encuentre cuyo nombre coincida, y si tuviera un archivo estático con el mismo nombre en una aplicación diferente, Django no podría distinguir entre ellos. Necesitamos poder señalar a Django el correcto, y la mejor manera de garantizarlo es espaciándolos con nombres. Es decir, colocando esos archivos estáticos dentro de otro directorio con el nombre de la aplicación misma.\n",
    "\n",
    "Introduzca el siguiente código en esa hoja de estilo (polls/static/polls/style.css):"
   ]
  },
  {
   "cell_type": "raw",
   "id": "741b39c0",
   "metadata": {},
   "source": [
    "\n",
    "# polls/static/polls/style.css\n",
    "\n",
    "li a {\n",
    "    color: green;\n",
    "}\n",
    "\n"
   ]
  },
  {
   "cell_type": "markdown",
   "id": "eecf8c76",
   "metadata": {},
   "source": [
    "A continuación, agregue lo siguiente en la parte superior de polls/templates/polls/index.html:"
   ]
  },
  {
   "cell_type": "raw",
   "id": "2489681a",
   "metadata": {},
   "source": [
    "\n",
    "# polls/templates/polls/index.html\n",
    "\n",
    "{% load static %}\n",
    "\n",
    "<link rel=\"stylesheet\" href=\"{% static 'polls/style.css' %}\">\n",
    "\n"
   ]
  },
  {
   "cell_type": "markdown",
   "id": "4c41e570",
   "metadata": {},
   "source": [
    "La etiqueta de plantilla {% static %} genera la URL absoluta de los archivos estáticos.\n",
    "\n",
    "Eso es todo lo que necesitas hacer para el desarrollo.\n",
    "\n",
    "Inicie el servidor (o reinícielo si ya se está ejecutando):"
   ]
  },
  {
   "cell_type": "raw",
   "id": "33592885",
   "metadata": {},
   "source": [
    "$ python manage.py runserver"
   ]
  },
  {
   "cell_type": "markdown",
   "id": "1df249e7",
   "metadata": {},
   "source": [
    "Vuelva a cargar http://localhost:8000/polls/ y debería ver que los enlaces de las preguntas son verdes (¡estilo Django!), lo que significa que su hoja de estilo se cargó correctamente.\n",
    "## Agregando una imagen de fondo\n",
    "\n",
    "A continuación, crearemos un subdirectorio para imágenes. Cree un subdirectorio de imágenes en el directorio polls/static/polls/. Dentro de este directorio, agregue cualquier archivo de imagen que desee utilizar como fondo. Para los propósitos de este tutorial, estamos usando un archivo llamado background.png, que tendrá la ruta completa polls/static/polls/images/background.png.\n",
    "\n",
    "Luego, agrega una referencia a tu imagen en tu hoja de estilo (encuestas/static/polls/style.css):"
   ]
  },
  {
   "cell_type": "raw",
   "id": "dbd06d68",
   "metadata": {},
   "source": [
    "\n",
    "# polls/static/polls/style.css\n",
    "\n",
    "body {\n",
    "    background: white url(\"images/background.png\") no-repeat;\n",
    "}\n",
    "\n"
   ]
  },
  {
   "cell_type": "markdown",
   "id": "cb8d3021",
   "metadata": {},
   "source": [
    "Vuelva a cargar http://localhost:8000/polls/ y debería ver el fondo cargado en la parte superior izquierda de la pantalla.\n",
    "\n",
    "### Advertencia\n",
    "\n",
    "La etiqueta de plantilla {% static %} no está disponible para su uso en archivos estáticos que no sean generados por Django, como su hoja de estilo. Siempre debes usar rutas relativas para vincular tus archivos estáticos entre sí, porque entonces puedes cambiar STATIC_URL (utilizado por la etiqueta de plantilla estática para generar sus URL) sin tener que modificar también un montón de rutas en tus archivos estáticos.\n",
    "\n",
    "Estos son los fundamentos. Para más detalles sobre la configuración y otra información que se incluye con el framework consulte la guía paso-a-paso de los archivos estáticos y la referencia de los archivos estáticos. Implementación de archivos estáticos habla sobre cómo utilizar los archivos estáticos en un servidor real.\n",
    "\n",
    "Cuando esté familiarizado con los archivos estáticos, lea la parte 7 de este tutorial para aprender a personalizar el sitio administrativo generado automáticamente de Django."
   ]
  }
 ],
 "metadata": {
  "kernelspec": {
   "display_name": "Python 3 (ipykernel)",
   "language": "python",
   "name": "python3"
  },
  "language_info": {
   "codemirror_mode": {
    "name": "ipython",
    "version": 3
   },
   "file_extension": ".py",
   "mimetype": "text/x-python",
   "name": "python",
   "nbconvert_exporter": "python",
   "pygments_lexer": "ipython3",
   "version": "3.11.7"
  }
 },
 "nbformat": 4,
 "nbformat_minor": 5
}
