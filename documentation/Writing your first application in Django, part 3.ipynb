{
 "cells": [
  {
   "cell_type": "markdown",
   "id": "37b5630d",
   "metadata": {},
   "source": [
    "## Información general\n",
    "\n",
    "Una vista es un «tipo» de página web en su aplicación Django que generalmente cumple una función específica y tiene una plantilla específica. Por ejemplo, en una aplicación de blog, es posible que tenga las siguientes vistas:\n",
    "\n",
    "    La página de inicio del blog – muestra las últimas pocas entradas.\n",
    "    Página de entrada de «detail» – página de enlace permanente para una entrada individual.\n",
    "    Página de archivo basada en el año – muestra todos los meses con entradas en un año determinado.\n",
    "    Página de archivo basada en el mes – muestra todos los días con las entradas en un mes determinado.\n",
    "    Página de archivo basada en el día – muestra todas las entradas de un día determinado.\n",
    "    Comentar – gestiona la publicación de comentarios en una entrada determinada.\n",
    "\n",
    "En nuestra aplicación encuestas, vamos a tener las siguientes cuatro vistas:\n",
    "\n",
    "    La página «índice» de preguntas – muestra las últimas preguntas.\n",
    "    La página «detalle» de preguntas– muestra un texto de pregunta sin resultados, pero con un formulario para votar.\n",
    "    La página «resultados» de preguntas – muestra los resultados de una pregunta en particular.\n",
    "    Votar – gestiona la votación para una elección concreta en una pregunta específica.\n",
    "\n",
    "En Django, las páginas web y otros contenidos se entregan mediante vistas. Cada vista está representada por una función de Python (o método, en el caso de vistas basadas en clases). Django elegirá una vista examinando la URL solicitada (para ser precisos, la parte de la URL después del nombre de dominio).\n",
    "\n",
    "Ahora, durante su tiempo en la web, es posible que se haya topado con bellezas como ME2/Sites/dirmod.htm?sid=&type=gen&mod=Core+Pages&gid=A6CD4967199A42D9B65B1B. Le complacerá saber que Django nos permite patrones de URL mucho más elegantes que eso.\n",
    "\n",
    "Un patrón de URL es la forma general de una URL, por ejemplo: /newsarchive/<año>/<mes>/.\n",
    "\n",
    "Para llegar desde una URL a una vista Django usa lo que se conoce como “URLconfs”. Una URLconf mapea patrones de URL y vistas.\n",
    "\n",
    "Este tutorial proporciona instrucciones básicas sobre el uso de URLconfs. Usted puede consultar URL Dispatcher para más información."
   ]
  },
  {
   "cell_type": "markdown",
   "id": "4a3adda3",
   "metadata": {},
   "source": [
    "## Escribiendo más vistas\n",
    "\n",
    "A continuación vamos a agregar más vistas a polls/views.py. Estas vistas son un poco diferentes porque toman un argumento:"
   ]
  },
  {
   "cell_type": "code",
   "execution_count": null,
   "id": "d1ef6f89",
   "metadata": {},
   "outputs": [],
   "source": [
    "# polls/views.py\n",
    "\n",
    "def detail(request, question_id):\n",
    "    return HttpResponse(\"You're looking at question %s.\" % question_id)\n",
    "\n",
    "\n",
    "def results(request, question_id):\n",
    "    response = \"You're looking at the results of question %s.\"\n",
    "    return HttpResponse(response % question_id)\n",
    "\n",
    "\n",
    "def vote(request, question_id):\n",
    "    return HttpResponse(\"You're voting on question %s.\" % question_id)\n",
    "\n"
   ]
  },
  {
   "cell_type": "markdown",
   "id": "164aab8b",
   "metadata": {},
   "source": [
    "Una estas nuevas vistas al módulo polls.urls añadiendo las siguientes llamadas path():"
   ]
  },
  {
   "cell_type": "code",
   "execution_count": null,
   "id": "569ba1be",
   "metadata": {},
   "outputs": [],
   "source": [
    "# polls/urls.py\n",
    "\n",
    "from django.urls import path\n",
    "\n",
    "from . import views\n",
    "\n",
    "urlpatterns = [\n",
    "    # ex: /polls/\n",
    "    path(\"\", views.index, name=\"index\"),\n",
    "    # ex: /polls/5/\n",
    "    path(\"<int:question_id>/\", views.detail, name=\"detail\"),\n",
    "    # ex: /polls/5/results/\n",
    "    path(\"<int:question_id>/results/\", views.results, name=\"results\"),\n",
    "    # ex: /polls/5/vote/\n",
    "    path(\"<int:question_id>/vote/\", views.vote, name=\"vote\"),\n",
    "]\n",
    "\n"
   ]
  },
  {
   "cell_type": "markdown",
   "id": "c31fbca4",
   "metadata": {},
   "source": [
    "Echa un vistazo en tu navegador, a «/polls/34/». Ejecutará la función detalle() y mostrará cualquier ID que proporcione en la URL. Pruebe también «/polls/34/results/» y «/polls/34/vote/»; estos mostrarán los resultados del marcador de posición y las páginas de votación.\n",
    "\n",
    "Cuando se solicita una página a tu sitio web – digamos, «/polls/34/», Django cargará el módulo Python mysite.urls apuntado por el parámetro ROOT_URLCONF. Recorre la lista de patrones urlpatterns en su orden. Al encontrar la coincidencia 'polls/', elimina el texto coincidente (\"polls/\") y envía el texto restante – \"34/\" – a la URLconf “polls.urls” para su posterior procesamiento. Allí coincide con '<int:question_id>/', lo que resulta en una llamada a la vista Detail() como esta:"
   ]
  },
  {
   "cell_type": "raw",
   "id": "6ab0ffdf",
   "metadata": {},
   "source": [
    "detail(request=<HttpRequest object>, question_id=34)"
   ]
  },
  {
   "cell_type": "markdown",
   "id": "f3f494c3",
   "metadata": {},
   "source": [
    "## Escriba vistas que realmente hagan algo¶\n",
    "\n",
    "Cada vista es responsable de hacer una de dos cosas: retornar un objeto HttpResponse con el contenido de la página solicitada, o levantar una excepción como Http404. El resto depende de usted.\n",
    "\n",
    "Su vista puede leer registros de una base de datos o no, puede usar un sistema de plantillas como el de Django o un sistema de plantillas Python de terceros o no. Puede generar un archivo PDF, salida XML, crear un archivo ZIP en la marcha, todo lo que quiera, utilizando cualquier librería de Python que desee.\n",
    "\n",
    "Todo Django quiere es ese objeto HttpResponse o una excepción.\n",
    "\n",
    "Debido a que es conveniente, vamos a utilizar la propia API de base de datos de Django, que estudiamos en el Tutorial 2. A continuación señalaremos una nueva vista index() que muestra en el sistema las 5 últimas preguntas de la encuesta, separadas por comas, según su fecha de publicación:"
   ]
  },
  {
   "cell_type": "code",
   "execution_count": null,
   "id": "fba154c1",
   "metadata": {},
   "outputs": [],
   "source": [
    "\n",
    "# polls/views.py\n",
    "\n",
    "from django.http import HttpResponse\n",
    "\n",
    "from .models import Question\n",
    "\n",
    "\n",
    "def index(request):\n",
    "    latest_question_list = Question.objects.order_by(\"-pub_date\")[:5]\n",
    "    output = \", \".join([q.question_text for q in latest_question_list])\n",
    "    return HttpResponse(output)\n",
    "\n",
    "\n",
    "# Leave the rest of the views (detail, results, vote) unchanged\n",
    "\n"
   ]
  },
  {
   "cell_type": "markdown",
   "id": "c17788c7",
   "metadata": {},
   "source": [
    "Sin embargo, aquí hay un problema: el diseño de la página está codificado de forma fija en la vista. Si desea cambiar la forma en que se ve la página, tendrá que editar el código Python. Así que vamos a usar el sistema de plantillas de Django para separar el diseño de Python mediante la creación de una plantilla que la vista pueda utilizar.\n",
    "\n",
    "Primero, cree un directorio llamado templates en su directorio polls. Django buscará las plantillas allí.\n",
    "\n",
    "La configuración de TEMPLATES de su proyecto describe cómo Django cargará y creará las plantillas. El archivo de configuración predeterminada configura un backend DjangoTemplates cuya opción APP_DIRS está configurada como True. Convencionalmente, DjangoTemplates busca un subdirectorio «templates» en cada una de las INSTALLED_APPS.\n",
    "\n",
    "Dentro del directorio de plantillas que acaba de crear, cree otro directorio llamado encuestas y dentro de él cree un archivo llamado index.html. En otras palabras, su plantilla debe estar en polls/templates/polls/index.html. Debido a cómo funciona el cargador de plantillas app_directories como se describe anteriormente, puedes hacer referencia a esta plantilla dentro de Django como polls/index.html.\n",
    "\n",
    "### Espacio de nombres de plantillas\n",
    "\n",
    "Ahora podríamos salirnos con la nuestra colocando nuestras plantillas directamente en polls/templates (en lugar de crear otro subdirectorio de polls), pero en realidad sería una mala idea. Django elegirá la primera plantilla que encuentre cuyo nombre coincida, y si tuviera una plantilla con el mismo nombre en una aplicación diferente, Django no podría distinguir entre ellas. Necesitamos poder señalar a Django el correcto, y la mejor manera de garantizarlo es espaciándolos con nombres. Es decir, colocando esas plantillas dentro de otro directorio con el nombre de la aplicación misma.\n",
    "\n",
    "Introduzca el siguiente código en esa plantilla:"
   ]
  },
  {
   "cell_type": "code",
   "execution_count": null,
   "id": "cf7beffb",
   "metadata": {},
   "outputs": [],
   "source": [
    "\n",
    "# polls/templates/polls/index.html\n",
    "\n",
    "{% if latest_question_list %}\n",
    "    <ul>\n",
    "    {% for question in latest_question_list %}\n",
    "        <li><a href=\"/polls/{{ question.id }}/\">{{ question.question_text }}</a></li>\n",
    "    {% endfor %}\n",
    "    </ul>\n",
    "{% else %}\n",
    "    <p>No polls are available.</p>\n",
    "{% endif %}\n",
    "\n"
   ]
  },
  {
   "cell_type": "markdown",
   "id": "5fc9112a",
   "metadata": {},
   "source": [
    "Ahora vamos a actualizar nuestra vista index en polls/views.py para usar la plantilla:"
   ]
  },
  {
   "cell_type": "code",
   "execution_count": null,
   "id": "14fda255",
   "metadata": {},
   "outputs": [],
   "source": [
    "\n",
    "# polls/views.py\n",
    "\n",
    "from django.http import HttpResponse\n",
    "from django.template import loader\n",
    "\n",
    "from .models import Question\n",
    "\n",
    "\n",
    "def index(request):\n",
    "    latest_question_list = Question.objects.order_by(\"-pub_date\")[:5]\n",
    "    template = loader.get_template(\"polls/index.html\")\n",
    "    context = {\n",
    "        \"latest_question_list\": latest_question_list,\n",
    "    }\n",
    "    return HttpResponse(template.render(context, request))\n",
    "\n"
   ]
  },
  {
   "cell_type": "markdown",
   "id": "f8a142a6",
   "metadata": {},
   "source": [
    "Ese código carga la plantilla llamada polls/index.html y le pasa un contexto. El contexto es un diccionario que relaciona los nombres de variables de plantillas con objetos Python.\n",
    "\n",
    "Cargue la página señalando su navegador en «/polls/», y usted debería ver una lista con viñetas que contiene la pregunta «¿Qué pasa?» del Tutorial 2. El enlace señala la página de detalles de la pregunta.\n",
    "Un atajo: render()¶\n",
    "\n",
    "Es una práctica muy común cargar una plantilla, llenar un contexto y retornar un objeto HttpResponse con el resultado de la plantilla creada. Django proporciona un atajo. A continuación la vista index() completa, reescrita:"
   ]
  },
  {
   "cell_type": "code",
   "execution_count": null,
   "id": "7ed6156f",
   "metadata": {},
   "outputs": [],
   "source": [
    "\n",
    "# polls/views.py\n",
    "\n",
    "from django.shortcuts import render\n",
    "\n",
    "from .models import Question\n",
    "\n",
    "\n",
    "def index(request):\n",
    "    latest_question_list = Question.objects.order_by(\"-pub_date\")[:5]\n",
    "    context = {\"latest_question_list\": latest_question_list}\n",
    "    return render(request, \"polls/index.html\", context)\n",
    "\n"
   ]
  },
  {
   "cell_type": "markdown",
   "id": "f99dd161",
   "metadata": {},
   "source": [
    "Tenga en cuenta que una vez que hemos hecho esto en todas estas vistas, ya no necesitamos importar loader y HttpResponse (usted querrá continuar HttpResponse si usted todavía tiene los métodos stub para detail, results y vote).\n",
    "\n",
    "La función render() toma el objeto solicitado como su primer argumento, un nombre de plantilla como su segundo argumento y un diccionario como su tercer argumento opcional. La función retorna un objeto HttpResponse de la plantilla determinada creada con el contexto dado.\n",
    "## Levantar un error 404\n",
    "\n",
    "Ahora vamos a abordar la vista de detalle de la pregunta: la página que muestra el texto de pregunta para una encuesta determinada. Aquí está la vista:"
   ]
  },
  {
   "cell_type": "code",
   "execution_count": null,
   "id": "6d0c0f1e",
   "metadata": {},
   "outputs": [],
   "source": [
    "# polls/views.py\n",
    "\n",
    "from django.http import Http404\n",
    "from django.shortcuts import render\n",
    "\n",
    "from .models import Question\n",
    "\n",
    "\n",
    "# ...\n",
    "def detail(request, question_id):\n",
    "    try:\n",
    "        question = Question.objects.get(pk=question_id)\n",
    "    except Question.DoesNotExist:\n",
    "        raise Http404(\"Question does not exist\")\n",
    "    return render(request, \"polls/detail.html\", {\"question\": question})\n",
    "\n"
   ]
  },
  {
   "cell_type": "markdown",
   "id": "18c35642",
   "metadata": {},
   "source": [
    "El nuevo concepto aquí: La vista levanta la excepción Http404 si no existe una pregunta con la ID solicitada.\n",
    "\n",
    "Hablaremos de lo que podría poner en esa plantilla polls/detail.html un poco más tarde, pero si desea empezar a trabajar con el ejemplo anterior, un archivo que contenga simplemente:"
   ]
  },
  {
   "cell_type": "raw",
   "id": "5e0e5d9c",
   "metadata": {},
   "source": [
    "\n",
    "# polls/templates/polls/detail.html\n",
    "\n",
    "{{ question }}\n",
    "\n"
   ]
  },
  {
   "cell_type": "markdown",
   "id": "8fd4051c",
   "metadata": {},
   "source": [
    "le ayudará a empezar por ahora.\n",
    "### Un atajo get_object_or_404()¶\n",
    "\n",
    "Es una práctica muy común utilizar get() y levantar la excepción Http404 si no existe el objeto. Django proporciona un atajo. Aquí está la vista detail(), reescrita:"
   ]
  },
  {
   "cell_type": "code",
   "execution_count": null,
   "id": "b30735a7",
   "metadata": {},
   "outputs": [],
   "source": [
    "\n",
    "# polls/views.py\n",
    "\n",
    "from django.shortcuts import get_object_or_404, render\n",
    "\n",
    "from .models import Question\n",
    "\n",
    "\n",
    "# ...\n",
    "def detail(request, question_id):\n",
    "    question = get_object_or_404(Question, pk=question_id)\n",
    "    return render(request, \"polls/detail.html\", {\"question\": question})\n",
    "\n"
   ]
  },
  {
   "cell_type": "markdown",
   "id": "3d6fac49",
   "metadata": {},
   "source": [
    "La función get_object_or_404() toma un modelo Django como su primer argumento y un número arbitrario de argumentos de palabra clave que pasa a la función get() del administrador del modelo. Levanta la excepción Http404 si no existe el objeto.\n",
    "\n",
    "### Filosofía\n",
    "\n",
    "¿Por qué utilizamos una función auxiliar get_object_or_404() en lugar de capturar las excepciones ObjectDoesNotExist en un nivel superior, o hacer que la API del modelo levante la excepción Http404 en vez de la excepción ObjectDoesNotExist?\n",
    "\n",
    "Porque eso acoplaría la capa de modelos con la capa de vistas. Uno de los objetivos de diseño más destacados de Django es mantener el bajo acoplamiento. Algo de acoplamiento controlado se introduce en el módulo django.shortcuts.\n",
    "\n",
    "También hay una función get_list_or_404() , que funciona igual que get_object_or_404() - excepto usando filter() en lugar de get(). La misma levanta la excepción Http404 si la lista está vacía.\n",
    "## Utilice el sistema de plantillas\n",
    "\n",
    "Vuelva a la vista detail() para nuestra aplicación encuesta. Teniendo en cuenta la variable de contexto question, así es como la plantilla polls/detail.html podría verse:"
   ]
  },
  {
   "cell_type": "raw",
   "id": "9748977d",
   "metadata": {},
   "source": [
    "\n",
    "# polls/templates/polls/detail.html\n",
    "\n",
    "<h1>{{ question.question_text }}</h1>\n",
    "<ul>\n",
    "{% for choice in question.choice_set.all %}\n",
    "    <li>{{ choice.choice_text }}</li>\n",
    "{% endfor %}\n",
    "</ul>\n",
    "\n"
   ]
  },
  {
   "cell_type": "markdown",
   "id": "1464190d",
   "metadata": {},
   "source": [
    "El sistema de plantillas utiliza la sintaxis de búsqueda con puntos para acceder a los atributos de variables. En el ejemplo de {{question.question_text}}, Django primero realiza una consulta en el diccionario sobre el objeto question. Si esto falla, intenta una búsqueda de atributos que en este caso funciona. Si la búsqueda de atributos hubiera fallado, hubiera intentado una búsqueda de índice de lista.\n",
    "\n",
    "El llamado del método ocurre en el bucle {% for%}: question.choice_set.all se interpreta como el código Python question.choice_set.all() que retorna un iterable de objetos Choice y es adecuado para usarse en la etiqueta {% for%}.\n",
    "\n",
    "Consulte la guía de plantillas para más información sobre las plantillas https://docs.djangoproject.com/es/5.0/topics/templates/.\n",
    "## Quitar URLs codificadas de manera predeterminada en las plantillas\n",
    "\n",
    "Recuerde que cuando escribimos el enlace para una pregunta en la plantilla polls/index.html, el enlace estaba parcialmente codificado de forma predeterminada como este:"
   ]
  },
  {
   "cell_type": "raw",
   "id": "9f37990c",
   "metadata": {},
   "source": [
    "<li><a href=\"/polls/{{ question.id }}/\">{{ question.question_text }}</a></li>"
   ]
  },
  {
   "cell_type": "markdown",
   "id": "793b964e",
   "metadata": {},
   "source": [
    "El problema con este enfoque codificado y estrechamente acoplado es que resulta difícil cambiar las URL en proyectos con muchas plantillas. Sin embargo, dado que definiste el argumento de nombre en las funciones path() en el módulo polls.urls, puedes eliminar la dependencia de rutas URL específicas definidas en tus configuraciones de URL usando la etiqueta de plantilla {% url %}:"
   ]
  },
  {
   "cell_type": "raw",
   "id": "355c19e7",
   "metadata": {},
   "source": [
    "<li><a href=\"{% url 'detail' question.id %}\">{{ question.question_text }}</a></li>"
   ]
  },
  {
   "cell_type": "markdown",
   "id": "320bbb34",
   "metadata": {},
   "source": [
    "La forma como esto funciona es buscando la definición de la URL como se específica en el módulo polls.urls. Usted puede ver exactamente donde se define el nombre de la URL de “detail” a continuación:"
   ]
  },
  {
   "cell_type": "code",
   "execution_count": null,
   "id": "67d3af97",
   "metadata": {},
   "outputs": [],
   "source": [
    "...\n",
    "# the 'name' value as called by the {% url %} template tag\n",
    "path(\"<int:question_id>/\", views.detail, name=\"detail\"),\n",
    "..."
   ]
  },
  {
   "cell_type": "markdown",
   "id": "bf16b6c9",
   "metadata": {},
   "source": [
    "Si desea modificar la URL de la vista de detalle de las encuestas a algo diferente, quizás a algo como polls/specifics/12/, en lugar de hacerlo en la plantilla (o plantillas), usted la modificaría en polls/urls.py:"
   ]
  },
  {
   "cell_type": "code",
   "execution_count": null,
   "id": "66e7ee6d",
   "metadata": {},
   "outputs": [],
   "source": [
    "...\n",
    "# added the word 'specifics'\n",
    "path(\"specifics/<int:question_id>/\", views.detail, name=\"detail\"),\n",
    "..."
   ]
  },
  {
   "cell_type": "markdown",
   "id": "0ed9f61d",
   "metadata": {},
   "source": [
    "## Asignando los nombres de URLs\n",
    "\n",
    "El proyecto tutorial solo tiene una aplicación; polls. En proyectos reales de Django, puede haber cinco, diez, veinte o más aplicaciones. ¿Cómo diferencia Django los nombres de las URLs entre ellos? Por ejemplo, la aplicación polls tiene una vista detail, como la podría tener también una aplicación en el mismo proyecto que es para un blog. ¿Cómo hacer para que Django sepa cual vista de aplicaciones crear para una URL cuando se utiliza la etiqueta de plantilla`` {% url%}``?\n",
    "\n",
    "La solución es añadir espacios de nombres a su URLconf. En el archivo polls/urls.py, añada un app_name para configurar el espacio de nombres de la aplicación:"
   ]
  },
  {
   "cell_type": "code",
   "execution_count": null,
   "id": "4222fcdf",
   "metadata": {},
   "outputs": [],
   "source": [
    "\n",
    "# polls/urls.py\n",
    "\n",
    "from django.urls import path\n",
    "\n",
    "from . import views\n",
    "\n",
    "app_name = \"polls\"\n",
    "urlpatterns = [\n",
    "    path(\"\", views.index, name=\"index\"),\n",
    "    path(\"<int:question_id>/\", views.detail, name=\"detail\"),\n",
    "    path(\"<int:question_id>/results/\", views.results, name=\"results\"),\n",
    "    path(\"<int:question_id>/vote/\", views.vote, name=\"vote\"),\n",
    "]\n",
    "\n"
   ]
  },
  {
   "cell_type": "markdown",
   "id": "0a9d39ba",
   "metadata": {},
   "source": [
    "Ahora modifique su plantilla polls/index.html desde:"
   ]
  },
  {
   "cell_type": "raw",
   "id": "23945c8b",
   "metadata": {},
   "source": [
    "\n",
    "# polls/templates/polls/index.html\n",
    "\n",
    "<li><a href=\"{% url 'detail' question.id %}\">{{ question.question_text }}</a></li>\n",
    "\n"
   ]
  },
  {
   "cell_type": "markdown",
   "id": "15c8ea1c",
   "metadata": {},
   "source": [
    "para señalar la vista de detalle con espacio de nombres:"
   ]
  },
  {
   "cell_type": "raw",
   "id": "7df037e7",
   "metadata": {},
   "source": [
    "\n",
    "# polls/templates/polls/index.html\n",
    "\n",
    "<li><a href=\"{% url 'polls:detail' question.id %}\">{{ question.question_text }}</a></li>\n",
    "\n"
   ]
  }
 ],
 "metadata": {
  "kernelspec": {
   "display_name": "Python 3 (ipykernel)",
   "language": "python",
   "name": "python3"
  },
  "language_info": {
   "codemirror_mode": {
    "name": "ipython",
    "version": 3
   },
   "file_extension": ".py",
   "mimetype": "text/x-python",
   "name": "python",
   "nbconvert_exporter": "python",
   "pygments_lexer": "ipython3",
   "version": "3.11.7"
  }
 },
 "nbformat": 4,
 "nbformat_minor": 5
}
